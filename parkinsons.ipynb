#train the model

import pandas as pd
from xgboost import XGBClassifier
from sklearn.model_selection import train_test_split
from sklearn.metrics import accuracy_score
import joblib

# Load the dataset
data_url = "https://archive.ics.uci.edu/ml/machine-learning-databases/parkinsons/parkinsons.data"
data = pd.read_csv(data_url)

# Prepare the data
X = data.drop(columns=['status', 'name'])
y = data['status']

# Split the data into training and testing sets
X_train, X_test, y_train, y_test = train_test_split(X, y, test_size=0.2, random_state=42)

# Initialize and train the XGBoost model
model = XGBClassifier(random_state=42)
model.fit(X_train, y_train)

# Evaluate the model
y_pred = model.predict(X_test)
accuracy = accuracy_score(y_test, y_pred)
print(f'Model Accuracy: {accuracy * 100:.2f}%')

# Save the model to a file
joblib.dump(model, 'parkinsons_model.pkl')


import pandas as pd
import joblib
import matplotlib.pyplot as plt
import seaborn as sns

# Load the dataset
data_url = "https://archive.ics.uci.edu/ml/machine-learning-databases/parkinsons/parkinsons.data"
data = pd.read_csv(data_url)

# Prepare the data
X = data.drop(columns=['status', 'name'])
y = data['status']

# Load the saved model
model = joblib.load('parkinsons_model.pkl')

# Get the expected feature names from the trained model
feature_names = model.get_booster().feature_names

def predict_parkinsons(input_data):
    # Convert input data to DataFrame, ensuring all expected features are present
    input_df = pd.DataFrame([input_data], columns=feature_names)
    
    # Optional: Apply scaling if your model was trained with scaled data
    # scaler = StandardScaler()
    # input_df_scaled = scaler.transform(input_df)
    
    # Make prediction
    prediction = model.predict(input_df)
    
    if prediction[0] == 1:
        return "The model predicts that the patient may have Parkinson's disease or be diagnosed with it in the future."
    else:
        return "The model predicts that the patient is unlikely to have Parkinson's disease."

# Example user input (replace with actual user input, including all expected features)
user_input = {
    'MDVP:Fo(Hz)': 150.0, 'MDVP:Fhi(Hz)': 200.0, 'MDVP:Flo(Hz)': 100.0, 'MDVP:Jitter(%)': 0.01,
    'MDVP:Jitter(Abs)': 0.0005, 'MDVP:RAP': 0.02, 'MDVP:PPQ': 0.03, 'Jitter:DDP': 0.04,
    'MDVP:Shimmer': 0.05, 'MDVP:Shimmer(dB)': 0.06, 'Shimmer:APQ3': 0.07, 'Shimmer:APQ5': 0.08,
    'MDVP:APQ': 0.09, 'Shimmer:DDA': 0.1, 'NHR': 0.11, 'HNR': 0.12, 
    'RPDE': 0.13, 'DFA': 0.14, 'spread1': 0.15, 'spread2': 0.16, 'D2': 0.17, 'PPE': 0.18 # Add missing features
}

# Make a prediction based on user input
result = predict_parkinsons(user_input)
print(result)

# Compute the mean feature values for healthy and Parkinson’s patients, excluding the 'name' column
healthy_mean = data[data['status'] == 0].drop(columns='name').mean()
parkinsons_mean = data[data['status'] == 1].drop(columns='name').mean()

# Plot comparison
plt.figure(figsize=(14, 8))
plt.plot(healthy_mean.index, healthy_mean, 'g--', label='Healthy Mean')
plt.plot(parkinsons_mean.index, parkinsons_mean, 'r--', label='Parkinson’s Mean')
plt.plot(user_input.keys(), user_input.values(), 'bo-', label='User Input')

plt.xticks(rotation=90)
plt.title('Comparison of Feature Values')
plt.xlabel('Features')
plt.ylabel('Mean Values')
plt.legend()
plt.tight_layout()
plt.show()
